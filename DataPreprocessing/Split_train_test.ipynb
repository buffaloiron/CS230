{
 "cells": [
  {
   "cell_type": "code",
   "execution_count": 1,
   "metadata": {},
   "outputs": [],
   "source": [
    "import pandas as pd\n",
    "import numpy as np\n",
    "import os\n",
    "\n",
    "\n",
    "from skimage.io import imread\n",
    "import matplotlib.pyplot as plt\n",
    "#get_ipython().run_line_magic('matplotlib', 'inline')\n",
    "import csv, copy\n",
    "from sklearn.model_selection import train_test_split\n",
    "import cv2"
   ]
  },
  {
   "cell_type": "code",
   "execution_count": 6,
   "metadata": {},
   "outputs": [],
   "source": [
    "def constructY(filename):\n",
    "    \n",
    "    Y = {}  #the final dictionary we want- jpg names point to numpy array of 0s and 1s (which defects exist)\n",
    "    defectvect = np.zeros(4)\n",
    "    with open(filename, mode='r') as csv_file:\n",
    "        csv_reader = csv.DictReader(csv_file)\n",
    "\n",
    "        for row in csv_reader:\n",
    "            key = row['file name']\n",
    "            val = row['defect status']\n",
    "            Y[key] = val\n",
    "        \n",
    "    return(Y)"
   ]
  },
  {
   "cell_type": "code",
   "execution_count": 9,
   "metadata": {},
   "outputs": [
    {
     "name": "stdout",
     "output_type": "stream",
     "text": [
      "we have 12568 total images\n",
      "we have 10054 training images\n",
      "we have 2514 test images\n"
     ]
    }
   ],
   "source": [
    "x = constructY(r'C:\\Users\\hgree\\OneDrive\\Documents\\CS230\\proj_data\\train_binary.csv')\n",
    "pic_list = list(x.keys())\n",
    "num_pics = len(pic_list)\n",
    "num_trains = round(0.8*num_pics)\n",
    "num_tests = num_pics - num_trains\n",
    "\n",
    "print('we have', num_pics, 'total images')\n",
    "print('we have', num_trains, 'training images')\n",
    "print('we have', num_tests, 'test images')"
   ]
  },
  {
   "cell_type": "code",
   "execution_count": 26,
   "metadata": {},
   "outputs": [],
   "source": [
    "Train_dict = {}\n",
    "Test_dict = {}\n",
    "\n",
    "with open(r'C:\\Users\\hgree\\OneDrive\\Documents\\CS230\\proj_data\\train_images\\train.csv', 'w', newline='') as csvfile:\n",
    "    writer = csv.DictWriter(csvfile, fieldnames = ['file name', 'defect status'])\n",
    "    writer.writeheader()\n",
    "    for i in range(num_trains):\n",
    "        writer.writerow({'file name': pic_list[i], 'defect status': x[pic_list[i]]})\n",
    "        Train_dict[pic_list[i]] = x[pic_list[i]]\n",
    "\n",
    "with open(r'C:\\Users\\hgree\\OneDrive\\Documents\\CS230\\proj_data\\test_images\\test.csv', 'w', newline='') as csvfile:\n",
    "    writer = csv.DictWriter(csvfile, fieldnames = ['file name', 'defect status'])\n",
    "    writer.writeheader()\n",
    "    for i in range(num_trains, num_trains + num_tests):\n",
    "        writer.writerow({'file name': pic_list[i], 'defect status': x[pic_list[i]]})\n",
    "        Test_dict[pic_list[i]] = x[pic_list[i]]"
   ]
  },
  {
   "cell_type": "code",
   "execution_count": null,
   "metadata": {},
   "outputs": [],
   "source": []
  },
  {
   "cell_type": "code",
   "execution_count": null,
   "metadata": {},
   "outputs": [],
   "source": []
  },
  {
   "cell_type": "code",
   "execution_count": null,
   "metadata": {},
   "outputs": [],
   "source": []
  }
 ],
 "metadata": {
  "kernelspec": {
   "display_name": "Python 3",
   "language": "python",
   "name": "python3"
  },
  "language_info": {
   "codemirror_mode": {
    "name": "ipython",
    "version": 3
   },
   "file_extension": ".py",
   "mimetype": "text/x-python",
   "name": "python",
   "nbconvert_exporter": "python",
   "pygments_lexer": "ipython3",
   "version": "3.7.4"
  }
 },
 "nbformat": 4,
 "nbformat_minor": 2
}
