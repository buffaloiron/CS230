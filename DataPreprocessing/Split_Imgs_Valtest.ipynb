{
 "cells": [
  {
   "cell_type": "markdown",
   "metadata": {},
   "source": [
    "This code takes a test folder full of dataset images, and pre-existing split csv files (split test into val and test), and splits the images into two subfolders- val and test. This script is intended to be used once only"
   ]
  },
  {
   "cell_type": "code",
   "execution_count": 6,
   "metadata": {},
   "outputs": [],
   "source": [
    "import csv, os\n",
    "\n",
    "#input path of folder containing all the images\n",
    "imagedir = r'C:\\Users\\hgree\\OneDrive\\Documents\\CS230\\proj_data\\images_square\\train_images'\n",
    "\n",
    "#input path of folder where you want the new test and train folders to go\n",
    "destination = r'C:\\Users\\hgree\\OneDrive\\Documents\\CS230\\proj_data\\images_square'\n",
    "    #make these new folders. Comment out if folers already exist\n",
    "os.mkdir(r'C:\\Users\\hgree\\OneDrive\\Documents\\CS230\\proj_data\\images_square\\val_images')\n",
    "os.mkdir(r'C:\\Users\\hgree\\OneDrive\\Documents\\CS230\\proj_data\\images_square\\test_images2')\n",
    "\n",
    "#input paths to test.csv and train.csv\n",
    "valcsvpath = r'C:\\Users\\hgree\\OneDrive\\Documents\\CS230\\proj_data\\val.csv'\n",
    "test2csvpath = r'C:\\Users\\hgree\\OneDrive\\Documents\\CS230\\proj_data\\test2.csv'"
   ]
  },
  {
   "cell_type": "code",
   "execution_count": 7,
   "metadata": {},
   "outputs": [],
   "source": [
    "#move val set into a subfolder\n",
    "with open(valcsvpath, mode='r') as csv_file:\n",
    "    csv_reader = csv.DictReader(csv_file)\n",
    "    \n",
    "    for row in csv_reader:\n",
    "        imgname = row['file name']\n",
    "        pathtoimg = os.path.join(imagedir, imgname)\n",
    "        pathtodest = os.path.join(os.path.join(destination, r'val_images'), imgname)\n",
    "        os.replace(pathtoimg, pathtodest)"
   ]
  },
  {
   "cell_type": "code",
   "execution_count": 12,
   "metadata": {},
   "outputs": [],
   "source": [
    "#move test2 set into a subfolder\n",
    "with open(test2csvpath, mode='r') as csv_file:\n",
    "    csv_reader = csv.DictReader(csv_file)\n",
    "    \n",
    "    for row in csv_reader:\n",
    "        imgname = row['file name']\n",
    "        pathtoimg = os.path.join(imagedir, imgname)\n",
    "        pathtodest = os.path.join(os.path.join(destination, r'test_images2'), imgname)\n",
    "        os.replace(pathtoimg, pathtodest)"
   ]
  },
  {
   "cell_type": "code",
   "execution_count": 10,
   "metadata": {},
   "outputs": [],
   "source": [
    "imagedir = r'C:\\Users\\hgree\\OneDrive\\Documents\\CS230\\proj_data\\images_square\\test_images'\n",
    "test2csvpath = r'C:\\Users\\hgree\\OneDrive\\Documents\\CS230\\proj_data\\test2.csv'"
   ]
  },
  {
   "cell_type": "code",
   "execution_count": null,
   "metadata": {},
   "outputs": [],
   "source": []
  }
 ],
 "metadata": {
  "kernelspec": {
   "display_name": "Python 3",
   "language": "python",
   "name": "python3"
  },
  "language_info": {
   "codemirror_mode": {
    "name": "ipython",
    "version": 3
   },
   "file_extension": ".py",
   "mimetype": "text/x-python",
   "name": "python",
   "nbconvert_exporter": "python",
   "pygments_lexer": "ipython3",
   "version": "3.7.4"
  }
 },
 "nbformat": 4,
 "nbformat_minor": 2
}
