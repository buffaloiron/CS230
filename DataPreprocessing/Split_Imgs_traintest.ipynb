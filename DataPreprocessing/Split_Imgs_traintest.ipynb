{
 "cells": [
  {
   "cell_type": "markdown",
   "metadata": {},
   "source": [
    "This code takes a folder full of dataset images, and pre-existing split csv files, and splits the images into two subfolders- test and train. This script is intended to be used once only"
   ]
  },
  {
   "cell_type": "code",
   "execution_count": 7,
   "metadata": {},
   "outputs": [],
   "source": [
    "import csv, os\n",
    "\n",
    "#input path of folder containing all the images\n",
    "imagedir = r'C:\\Users\\hgree\\OneDrive\\Documents\\CS230\\proj_data\\images_square'\n",
    "\n",
    "#input path of folder where you want the new test and train folders to go\n",
    "destination = r'C:\\Users\\hgree\\OneDrive\\Documents\\CS230\\proj_data\\images_square'\n",
    "    #make these new folders. Comment out if folers already exist\n",
    "os.mkdir(r'C:\\Users\\hgree\\OneDrive\\Documents\\CS230\\proj_data\\images_square\\train_images')\n",
    "os.mkdir(r'C:\\Users\\hgree\\OneDrive\\Documents\\CS230\\proj_data\\images_square\\test_images')\n",
    "\n",
    "#input paths to test.csv and train.csv\n",
    "traincsvpath = r'C:\\Users\\hgree\\OneDrive\\Documents\\CS230\\proj_data\\train.csv'\n",
    "testcsvpath = r'C:\\Users\\hgree\\OneDrive\\Documents\\CS230\\proj_data\\test.csv'"
   ]
  },
  {
   "cell_type": "code",
   "execution_count": 8,
   "metadata": {},
   "outputs": [],
   "source": [
    "#move training set into a subfolder\n",
    "with open(traincsvpath, mode='r') as csv_file:\n",
    "    csv_reader = csv.DictReader(csv_file)\n",
    "    \n",
    "    for row in csv_reader:\n",
    "        imgname = row['file name']\n",
    "        pathtoimg = os.path.join(imagedir, imgname)\n",
    "        pathtodest = os.path.join(os.path.join(destination, r'train_images'), imgname)\n",
    "        os.replace(pathtoimg, pathtodest)"
   ]
  },
  {
   "cell_type": "code",
   "execution_count": 9,
   "metadata": {},
   "outputs": [],
   "source": [
    "#move test set into a subfolder\n",
    "with open(testcsvpath, mode='r') as csv_file:\n",
    "    csv_reader = csv.DictReader(csv_file)\n",
    "    \n",
    "    for row in csv_reader:\n",
    "        imgname = row['file name']\n",
    "        pathtoimg = os.path.join(imagedir, imgname)\n",
    "        pathtodest = os.path.join(os.path.join(destination, r'test_images'), imgname)\n",
    "        os.replace(pathtoimg, pathtodest)"
   ]
  },
  {
   "cell_type": "code",
   "execution_count": null,
   "metadata": {},
   "outputs": [],
   "source": []
  }
 ],
 "metadata": {
  "kernelspec": {
   "display_name": "Python 3",
   "language": "python",
   "name": "python3"
  },
  "language_info": {
   "codemirror_mode": {
    "name": "ipython",
    "version": 3
   },
   "file_extension": ".py",
   "mimetype": "text/x-python",
   "name": "python",
   "nbconvert_exporter": "python",
   "pygments_lexer": "ipython3",
   "version": "3.7.4"
  }
 },
 "nbformat": 4,
 "nbformat_minor": 2
}
