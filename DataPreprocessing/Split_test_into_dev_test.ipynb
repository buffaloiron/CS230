{
 "cells": [
  {
   "cell_type": "code",
   "execution_count": 1,
   "metadata": {},
   "outputs": [],
   "source": [
    "import pandas as pd\n",
    "import numpy as np\n",
    "import os\n",
    "\n",
    "\n",
    "from skimage.io import imread\n",
    "import matplotlib.pyplot as plt\n",
    "#get_ipython().run_line_magic('matplotlib', 'inline')\n",
    "import csv, copy\n",
    "from sklearn.model_selection import train_test_split\n",
    "import cv2"
   ]
  },
  {
   "cell_type": "code",
   "execution_count": 2,
   "metadata": {},
   "outputs": [],
   "source": [
    "def constructY(filename):\n",
    "    \n",
    "    Y = {}  #the final dictionary we want- jpg names point to numpy array of 0s and 1s (which defects exist)\n",
    "    defectvect = np.zeros(4)\n",
    "    with open(filename, mode='r') as csv_file:\n",
    "        csv_reader = csv.DictReader(csv_file)\n",
    "\n",
    "        for row in csv_reader:\n",
    "            key = row['file name']\n",
    "            val = row['defect status']\n",
    "            Y[key] = val\n",
    "        \n",
    "    return(Y)"
   ]
  },
  {
   "cell_type": "code",
   "execution_count": 4,
   "metadata": {},
   "outputs": [
    {
     "name": "stdout",
     "output_type": "stream",
     "text": [
      "we have 2514 images in the old test file\n",
      "we have 1257 training images\n",
      "we have 1257 test images\n"
     ]
    }
   ],
   "source": [
    "x = constructY(r'C:\\Users\\hgree\\OneDrive\\Documents\\CS230\\proj_data\\test.csv')\n",
    "pic_list = list(x.keys())\n",
    "num_pics = len(pic_list)\n",
    "num_vals = round(0.5*num_pics)\n",
    "num_tests2 = num_pics - num_vals\n",
    "\n",
    "print('we have', num_pics, 'images in the old test file')\n",
    "print('we have', num_vals, 'training images')\n",
    "print('we have', num_tests2, 'test images')"
   ]
  },
  {
   "cell_type": "code",
   "execution_count": 6,
   "metadata": {},
   "outputs": [],
   "source": [
    "Val_dict = {}\n",
    "Test2_dict = {}\n",
    "\n",
    "with open(r'C:\\Users\\hgree\\OneDrive\\Documents\\CS230\\proj_data\\val.csv', 'w', newline='') as csvfile:\n",
    "    writer = csv.DictWriter(csvfile, fieldnames = ['file name', 'defect status'])\n",
    "    writer.writeheader()\n",
    "    for i in range(num_vals):\n",
    "        writer.writerow({'file name': pic_list[i], 'defect status': x[pic_list[i]]})\n",
    "        Val_dict[pic_list[i]] = x[pic_list[i]]\n",
    "\n",
    "with open(r'C:\\Users\\hgree\\OneDrive\\Documents\\CS230\\proj_data\\test2.csv', 'w', newline='') as csvfile:\n",
    "    writer = csv.DictWriter(csvfile, fieldnames = ['file name', 'defect status'])\n",
    "    writer.writeheader()\n",
    "    for i in range(num_vals, num_vals + num_tests2):\n",
    "        writer.writerow({'file name': pic_list[i], 'defect status': x[pic_list[i]]})\n",
    "        Test2_dict[pic_list[i]] = x[pic_list[i]]"
   ]
  },
  {
   "cell_type": "code",
   "execution_count": null,
   "metadata": {},
   "outputs": [],
   "source": []
  },
  {
   "cell_type": "code",
   "execution_count": null,
   "metadata": {},
   "outputs": [],
   "source": []
  },
  {
   "cell_type": "code",
   "execution_count": null,
   "metadata": {},
   "outputs": [],
   "source": []
  }
 ],
 "metadata": {
  "kernelspec": {
   "display_name": "Python 3",
   "language": "python",
   "name": "python3"
  },
  "language_info": {
   "codemirror_mode": {
    "name": "ipython",
    "version": 3
   },
   "file_extension": ".py",
   "mimetype": "text/x-python",
   "name": "python",
   "nbconvert_exporter": "python",
   "pygments_lexer": "ipython3",
   "version": "3.7.4"
  }
 },
 "nbformat": 4,
 "nbformat_minor": 2
}
